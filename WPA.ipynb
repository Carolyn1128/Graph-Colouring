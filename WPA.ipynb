{
 "cells": [
  {
   "cell_type": "code",
   "execution_count": 30,
   "id": "65bb53fd-052e-4c18-bb1e-02ea6f53e9b7",
   "metadata": {},
   "outputs": [
    {
     "name": "stdout",
     "output_type": "stream",
     "text": [
      "C\n",
      "E\n",
      "D\n",
      "I\n",
      "H\n",
      "{'C': 'red', 'F': 'red', 'E': 'pink', 'A': 'pink', 'D': 'black', 'B': 'black', 'I': 'blue', 'G': 'blue', 'H': 'yellow', 'J': 'yellow'}\n"
     ]
    }
   ],
   "source": [
    "example = [[0,1,1,1,0,0,0,0,0,0],[1,0,1,0,0,0,0,0,0,0],[1,1,0,1,1,0,0,0,0,0],\n",
    "           [1,0,1,0,0,1,0,0,0,0],[0,0,1,0,0,1,1,0,1,0,],[0,0,0,1,1,0,0,0,1,1],\n",
    "           [0,0,0,0,1,0,0,1,0,0],[0,0,0,0,0,0,1,0,1,0], [0,0,0,0,1,0,0,1,0,1],\n",
    "           [0,0,0,0,0,1,0,0,1,0]]\n",
    "#Adjacency matrix\n",
    "names = [\"A\",\"B\",\"C\",\"D\",\"E\",\"F\",\"G\",\"H\",\"I\",\"J\",\"K\"]\n",
    "degree = {}\n",
    "for i in range(len(example)):\n",
    "    degree[names[i]] = example[i]\n",
    "\n",
    "def WelshPowell(graph):\n",
    "    colors = [\"red\",\"pink\",\"black\",\"blue\",\"yellow\",\"brown\",\"gray\",\"orange\"]\n",
    "    names = [\"A\",\"B\",\"C\",\"D\",\"E\",\"F\",\"G\",\"H\",\"I\",\"J\",\"K\"]\n",
    "    #sort graph base on degree or the node. \n",
    "    graph = {k: v for k, v in sorted(graph.items(), key=lambda item: sum(item[1]), reverse=True)}\n",
    "    #print(graph)\n",
    "    nodes = list(graph.keys())\n",
    "    nodes_colors={}\n",
    "    while nodes:\n",
    "        cnode = nodes.pop(0)\n",
    "        print(cnode)\n",
    "        nodes_colors[cnode] = colors[0]\n",
    "        node_adj = graph[cnode]\n",
    "        for n in range(len(node_adj)):\n",
    "            if graph[cnode][n] == 0:\n",
    "                if names[n] in nodes:\n",
    "                    nodes_colors[names[n]] = colors[0]\n",
    "                    nodes.remove(names[n])\n",
    "                    break\n",
    "        colors.pop(0)\n",
    "    return nodes_colors\n",
    "                \n",
    "    \n",
    "print(WelshPowell(degree))\n",
    "    "
   ]
  },
  {
   "cell_type": "code",
   "execution_count": null,
   "id": "aefc0024-ca71-4725-87b9-b76cd8446a7d",
   "metadata": {},
   "outputs": [],
   "source": []
  }
 ],
 "metadata": {
  "kernelspec": {
   "display_name": "Python 3 (ipykernel)",
   "language": "python",
   "name": "python3"
  },
  "language_info": {
   "codemirror_mode": {
    "name": "ipython",
    "version": 3
   },
   "file_extension": ".py",
   "mimetype": "text/x-python",
   "name": "python",
   "nbconvert_exporter": "python",
   "pygments_lexer": "ipython3",
   "version": "3.8.10"
  }
 },
 "nbformat": 4,
 "nbformat_minor": 5
}
