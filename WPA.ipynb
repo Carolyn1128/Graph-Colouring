{
 "cells": [
  {
   "cell_type": "code",
   "execution_count": null,
   "id": "8d65a090-6455-4991-8f98-069f959f42c0",
   "metadata": {},
   "outputs": [],
   "source": [
    "example = [[0,1,1,1,0,0,0,0,0,0],[1,0,1,0,0,0,0,0,0,0],[1,1,0,1,1,0,0,0,0,0],\n",
    "           [1,0,1,0,0,1,0,0,0,0],[0,0,1,0,0,1,1,0,1,0,],[0,0,0,1,1,0,0,0,1,1],\n",
    "           [0,0,0,0,1,0,0,1,0,0],[0,0,0,0,0,0,1,0,1,0], [0,0,0,0,1,0,0,1,0,1],\n",
    "           [0,0,0,0,0,1,0,0,1,0]]\n",
    "#Adjacency matrix\n",
    "names = [\"0\",\"1\",\"2\",\"3\",\"4\",\"5\",\"6\",\"7\",\"8\",\"9\"]\n",
    "degree = {}\n",
    "for i in range(len(example)):\n",
    "    degree[names[i]] = example[i]\n",
    "\n",
    "def WelshPowell(graph):\n",
    "    colors = [\"red\",\"pink\",\"black\",\"blue\",\"yellow\",\"brown\",\"gray\",\"orange\"]\n",
    "    names = [\"0\",\"1\",\"2\",\"3\",\"4\",\"5\",\"6\",\"7\",\"8\",\"9\"]\n",
    "    #sort graph base on degree or the node and save it as dictionry \n",
    "    graph = {k: v for k, v in sorted(graph.items(), key=lambda item: sum(item[1]), reverse=True)}\n",
    "   #print(graph)\n",
    "    nodes = list(graph.keys())#all uncolored nodes\n",
    "    nodes_colors={}\n",
    "    totalColorUsed = 0\n",
    "    while nodes:\n",
    "        cnode = nodes.pop(0)\n",
    "        nodes_colors[cnode] = colors[0]\n",
    "        current_color_nodes = [cnode]\n",
    "       #print(nodes)\n",
    "        i = 0\n",
    "        while i < len(nodes):#Check all uncolor node\n",
    "          #print(nodes[i])\n",
    "            check = False #check if adj with other nodes with this color\n",
    "            for c in current_color_nodes:\n",
    "                if graph[c][int(nodes[i])] == 1: # adj\n",
    "                    #print(c,n)\n",
    "                    check = True\n",
    "            if not check:\n",
    "                current_color_nodes.append(nodes[i])\n",
    "                nodes_colors[nodes[i]] = colors[0]#set to the current color\n",
    "                nodes.remove(nodes[i])#emove it from uncolor node list\n",
    "            else:\n",
    "                i+=1\n",
    "        colors.pop(0)#remove the color from color list  \n",
    "        totalColorUsed += 1\n",
    "        \n",
    "    return nodes_colors, totalColorUsed\n",
    "                \n",
    "    \n",
    "print(WelshPowell(degree))\n",
    "    "
   ]
  },
  {
   "cell_type": "code",
   "execution_count": null,
   "id": "aefc0024-ca71-4725-87b9-b76cd8446a7d",
   "metadata": {},
   "outputs": [],
   "source": []
  }
 ],
 "metadata": {
  "kernelspec": {
   "display_name": "Python 3 (ipykernel)",
   "language": "python",
   "name": "python3"
  },
  "language_info": {
   "codemirror_mode": {
    "name": "ipython",
    "version": 3
   },
   "file_extension": ".py",
   "mimetype": "text/x-python",
   "name": "python",
   "nbconvert_exporter": "python",
   "pygments_lexer": "ipython3",
   "version": "3.7.10"
  }
 },
 "nbformat": 4,
 "nbformat_minor": 5
}
