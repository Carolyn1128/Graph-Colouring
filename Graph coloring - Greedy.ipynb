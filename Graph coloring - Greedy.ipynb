{
 "cells": [
  {
   "cell_type": "code",
   "execution_count": 38,
   "metadata": {},
   "outputs": [
    {
     "name": "stdout",
     "output_type": "stream",
     "text": [
      "Vertex 0 : Assigned with Color 0\n",
      "Vertex 1 : Assigned with Color 1\n",
      "Vertex 2 : Assigned with Color 2\n",
      "Vertex 3 : Assigned with Color 2\n",
      "Vertex 4 : Assigned with Color 2\n"
     ]
    }
   ],
   "source": [
    "# example = [[0,1,1,1,0,0,0,0,0,0],[1,0,1,0,0,0,0,0,0,0],[1,1,0,1,1,0,0,0,0,0],\n",
    "#            [1,0,1,0,0,1,0,0,0,0],[0,0,1,0,0,1,1,0,1,0,],[0,0,0,1,1,0,0,0,1,1],\n",
    "#            [0,0,0,0,1,0,0,1,0,0],[0,0,0,0,0,0,1,0,1,0], [0,0,0,0,1,0,0,1,0,1],\n",
    "#            [0,0,0,0,0,1,0,0,1,0]]\n",
    "\n",
    "example = [[0,1,1,0,0], [1,0,1,1,0], [1,1,0,1,0], [0,1,1,0,1], [0,0,0,1,0]]\n",
    "\n",
    "def greedy (graph):\n",
    "    \n",
    "    colors = [\"red\",\"pink\",\"black\",\"blue\",\"yellow\",\"brown\",\"gray\",\"orange\"]\n",
    "    names = [\"A\",\"B\",\"C\",\"D\",\"E\",\"F\",\"G\",\"H\",\"I\",\"J\",\"K\"]\n",
    "    \n",
    "    Nodes = len(graph)\n",
    "    result = [-1] * Nodes    # Initialize all vertices are unassigned\n",
    "    result[0] = 0            # Assign first color for the first node\n",
    "\n",
    "    color_available = [False] * Nodes\n",
    "\n",
    "    for u in range (1,Nodes):     # for all other Nodes-1 vertices\n",
    "        for i in graph[u]:\n",
    "            if (result[i] != -1): # when one color is assigned, make is unavailable\n",
    "                color_available[result[i]] = True\n",
    "        \n",
    "        color = 0\n",
    "        while color < Nodes:\n",
    "            if (color_available[color] == False):\n",
    "                break            # find a color which is not assigned\n",
    "            color += 1\n",
    "        result[u] = color        # assign found color in the list\n",
    "        \n",
    "        for i in graph[u]:       # for next iteration make color availability to false\n",
    "            if (result[i] != -1):\n",
    "                color_available[result[i]] = False\n",
    "\n",
    "    for u in range(Nodes):\n",
    "        print(\"Vertex\", u, \": Assigned with Color\", result[u])\n",
    "#         print(\"Vertex\", names[u], \"Assigned with  Color\", colors[result[u]])\n",
    "\n",
    "greedy(example)"
   ]
  },
  {
   "cell_type": "raw",
   "metadata": {},
   "source": [
    "# expected output:\n",
    "Vertex 0 : Assigned with Color 0\n",
    "Vertex 1 : Assigned with Color 1\n",
    "Vertex 2 : Assigned with Color 2\n",
    "Vertex 3 : Assigned with Color 0\n",
    "Vertex 4 : Assigned with Color 1"
   ]
  },
  {
   "cell_type": "code",
   "execution_count": null,
   "metadata": {},
   "outputs": [],
   "source": []
  }
 ],
 "metadata": {
  "kernelspec": {
   "display_name": "Python 3",
   "language": "python",
   "name": "python3"
  },
  "language_info": {
   "codemirror_mode": {
    "name": "ipython",
    "version": 3
   },
   "file_extension": ".py",
   "mimetype": "text/x-python",
   "name": "python",
   "nbconvert_exporter": "python",
   "pygments_lexer": "ipython3",
   "version": "3.8.3"
  }
 },
 "nbformat": 4,
 "nbformat_minor": 4
}
